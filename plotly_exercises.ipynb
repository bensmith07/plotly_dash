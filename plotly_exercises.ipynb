{
 "cells": [
  {
   "cell_type": "code",
   "execution_count": 2,
   "id": "f881814f",
   "metadata": {},
   "outputs": [],
   "source": [
    "import numpy as np\n",
    "import pandas as pd\n",
    "import plotly.offline as pyo\n",
    "import plotly.graph_objs as go\n",
    "\n",
    "np.random.seed(42)"
   ]
  },
  {
   "cell_type": "markdown",
   "id": "f90251ef",
   "metadata": {},
   "source": [
    "#### Scatter Plot"
   ]
  },
  {
   "cell_type": "code",
   "execution_count": 3,
   "id": "3cf83077",
   "metadata": {},
   "outputs": [],
   "source": [
    "random_x = np.random.randint(1,101,100)\n",
    "random_y = np.random.randint(1,101,100)"
   ]
  },
  {
   "cell_type": "code",
   "execution_count": 7,
   "id": "b34ae3f1",
   "metadata": {},
   "outputs": [],
   "source": [
    "data = [go.Scatter(x=random_x, \n",
    "                   y=random_y, \n",
    "                   mode='markers',\n",
    "                   marker={'size':12,\n",
    "                           'color':'rgb(51,204,153)',\n",
    "                           'symbol':'pentagon',\n",
    "                           'line':{'width':2}})]\n",
    "\n",
    "layout = go.Layout(title='Scatter Plot #1',\n",
    "                   xaxis={'title': 'The X-Axis'},\n",
    "                   yaxis={'title': 'The Y-Axis'},\n",
    "                   hovermode='closest')\n",
    "\n",
    "fig = go.Figure(data=data, layout=layout)\n",
    "\n",
    "pyo.plot(fig, filename='scatter.html')"
   ]
  },
  {
   "cell_type": "code",
   "execution_count": null,
   "id": "4fefe96d",
   "metadata": {},
   "outputs": [],
   "source": []
  }
 ],
 "metadata": {
  "kernelspec": {
   "display_name": "Python 3.9.7 ('base')",
   "language": "python",
   "name": "python3"
  },
  "language_info": {
   "codemirror_mode": {
    "name": "ipython",
    "version": 3
   },
   "file_extension": ".py",
   "mimetype": "text/x-python",
   "name": "python",
   "nbconvert_exporter": "python",
   "pygments_lexer": "ipython3",
   "version": "3.9.7"
  },
  "vscode": {
   "interpreter": {
    "hash": "38cca0c38332a56087b24af0bc80247f4fced29cb4f7f437d91dc159adec9c4e"
   }
  }
 },
 "nbformat": 4,
 "nbformat_minor": 5
}
