{
 "cells": [
  {
   "cell_type": "code",
   "execution_count": 5,
   "metadata": {},
   "outputs": [],
   "source": [
    "import numpy as np\n",
    "import pandas as pd\n",
    "\n",
    "import dash\n",
    "from dash import dcc\n",
    "from dash import html"
   ]
  },
  {
   "cell_type": "code",
   "execution_count": 6,
   "metadata": {},
   "outputs": [
    {
     "name": "stdout",
     "output_type": "stream",
     "text": [
      "Dash is running on http://127.0.0.1:8050/\n",
      "\n",
      " * Serving Flask app '__main__' (lazy loading)\n",
      " * Environment: production\n",
      "\u001b[31m   WARNING: This is a development server. Do not use it in a production deployment.\u001b[0m\n",
      "\u001b[2m   Use a production WSGI server instead.\u001b[0m\n",
      " * Debug mode: off\n"
     ]
    },
    {
     "name": "stderr",
     "output_type": "stream",
     "text": [
      " * Running on http://127.0.0.1:8050/ (Press CTRL+C to quit)\n",
      "127.0.0.1 - - [06/Sep/2022 11:01:59] \"GET / HTTP/1.1\" 200 -\n",
      "127.0.0.1 - - [06/Sep/2022 11:01:59] \"GET /_dash-component-suites/dash/deps/react@16.v2_6_1m1662479341.14.0.min.js HTTP/1.1\" 200 -\n",
      "127.0.0.1 - - [06/Sep/2022 11:01:59] \"GET /_dash-component-suites/dash/deps/react-dom@16.v2_6_1m1662479341.14.0.min.js HTTP/1.1\" 200 -\n",
      "127.0.0.1 - - [06/Sep/2022 11:01:59] \"GET /_dash-component-suites/dash/deps/polyfill@7.v2_6_1m1662479341.12.1.min.js HTTP/1.1\" 200 -\n",
      "127.0.0.1 - - [06/Sep/2022 11:01:59] \"GET /_dash-component-suites/dash/deps/prop-types@15.v2_6_1m1662479341.8.1.min.js HTTP/1.1\" 200 -\n",
      "127.0.0.1 - - [06/Sep/2022 11:01:59] \"GET /_dash-component-suites/dash/dash-renderer/build/dash_renderer.v2_6_1m1662479340.min.js HTTP/1.1\" 200 -\n",
      "127.0.0.1 - - [06/Sep/2022 11:01:59] \"GET /_dash-component-suites/dash/dcc/dash_core_components-shared.v2_6_1m1662479340.js HTTP/1.1\" 200 -\n",
      "127.0.0.1 - - [06/Sep/2022 11:01:59] \"GET /_dash-component-suites/dash/dcc/dash_core_components.v2_6_1m1662479340.js HTTP/1.1\" 200 -\n",
      "127.0.0.1 - - [06/Sep/2022 11:01:59] \"GET /_dash-component-suites/dash/html/dash_html_components.v2_0_5m1662479341.min.js HTTP/1.1\" 200 -\n",
      "127.0.0.1 - - [06/Sep/2022 11:01:59] \"GET /_dash-component-suites/dash/dash_table/bundle.v5_1_5m1662479340.js HTTP/1.1\" 200 -\n",
      "127.0.0.1 - - [06/Sep/2022 11:01:59] \"GET /_dash-layout HTTP/1.1\" 200 -\n",
      "127.0.0.1 - - [06/Sep/2022 11:01:59] \"GET /_dash-dependencies HTTP/1.1\" 200 -\n",
      "127.0.0.1 - - [06/Sep/2022 11:01:59] \"GET /_favicon.ico?v=2.6.1 HTTP/1.1\" 200 -\n"
     ]
    }
   ],
   "source": [
    "app = dash.Dash()\n",
    "\n",
    "app.layout = html.Div(children=[\n",
    "                                html.H1('Hello Dash')\n",
    "                                ]\n",
    "                     )\n",
    "\n",
    "if __name__ == '__main__':\n",
    "    app.run_server()"
   ]
  },
  {
   "cell_type": "code",
   "execution_count": null,
   "metadata": {},
   "outputs": [],
   "source": []
  }
 ],
 "metadata": {
  "kernelspec": {
   "display_name": "Python 3.6.13 ('plotly_dash_env')",
   "language": "python",
   "name": "python3"
  },
  "language_info": {
   "codemirror_mode": {
    "name": "ipython",
    "version": 3
   },
   "file_extension": ".py",
   "mimetype": "text/x-python",
   "name": "python",
   "nbconvert_exporter": "python",
   "pygments_lexer": "ipython3",
   "version": "3.6.13"
  },
  "orig_nbformat": 4,
  "vscode": {
   "interpreter": {
    "hash": "e2e49a00ba4d25dcc7e78d9dfdaa2109d750ea74789ffef973c6ce1f73394f93"
   }
  }
 },
 "nbformat": 4,
 "nbformat_minor": 2
}
